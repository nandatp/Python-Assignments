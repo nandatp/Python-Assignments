{
 "cells": [
  {
   "cell_type": "code",
   "execution_count": null,
   "id": "fa39ac71",
   "metadata": {},
   "outputs": [],
   "source": [
    "'''\n",
    "\n",
    "\n",
    "\n",
    "'''"
   ]
  },
  {
   "cell_type": "code",
   "execution_count": null,
   "id": "c1892ce0",
   "metadata": {},
   "outputs": [],
   "source": [
    "'''1. What are escape characters, and how do you use them?'''\n",
    "\n",
    "'''To insert an illegal character in a string we use escape character\n",
    "An Escape character is '\\' followed by character you want to insert  '''"
   ]
  },
  {
   "cell_type": "code",
   "execution_count": null,
   "id": "514d2adb",
   "metadata": {},
   "outputs": [],
   "source": [
    "'''2. What do the escape characters n and t stand for?'''\n",
    "''' \\n - referes to new line\n",
    "\\t - referes to tab'''"
   ]
  },
  {
   "cell_type": "code",
   "execution_count": null,
   "id": "5cc42991",
   "metadata": {},
   "outputs": [],
   "source": [
    "'''3. What is the way to include backslash characters in a string?'''\n",
    "\n",
    "''' use '\\\\' '''"
   ]
  },
  {
   "cell_type": "code",
   "execution_count": null,
   "id": "43c3b01c",
   "metadata": {},
   "outputs": [],
   "source": [
    "''' 4. The string \"Howl's Moving Castle\" is a correct value. Why isn't the single quote character in the\n",
    "word Howl's not escaped a problem?'''\n",
    "\n",
    "'''actual string is enclosed within double quotes, so single quote is allowed if it is enclosed within double quoted string'''\n"
   ]
  },
  {
   "cell_type": "code",
   "execution_count": null,
   "id": "b7b63a22",
   "metadata": {},
   "outputs": [],
   "source": [
    "'''5. How do you write a string of newlines if you don&#39;t want to use the n character?'''\n",
    "\n",
    "'''can use three single quotes or three double quotes'''"
   ]
  },
  {
   "cell_type": "code",
   "execution_count": 7,
   "id": "95e64f63",
   "metadata": {},
   "outputs": [
    {
     "data": {
      "text/plain": [
       "'6. What are the values of the following expressions?'"
      ]
     },
     "execution_count": 7,
     "metadata": {},
     "output_type": "execute_result"
    }
   ],
   "source": [
    "'''6. What are the values of the following expressions?'''\n",
    "# 'Hello, world!'[1] = e\n",
    "# 'Hello, world!'[0:5] = Hello\n",
    "# 'Hello, world!'[5] = Hello\n",
    "# 'Hello, world!'[3:] = lo, world\n"
   ]
  },
  {
   "cell_type": "code",
   "execution_count": 8,
   "id": "35469b24",
   "metadata": {},
   "outputs": [
    {
     "data": {
      "text/plain": [
       "'7. What are the values of the following expressions?'"
      ]
     },
     "execution_count": 8,
     "metadata": {},
     "output_type": "execute_result"
    }
   ],
   "source": [
    "'''7. What are the values of the following expressions?'''\n",
    "\n",
    "# 'Hello'.upper() = HELLO\n",
    "# 'Hello'.upper().isupper() = True\n",
    "# 'Hello'.upper().lower() = hello"
   ]
  },
  {
   "cell_type": "code",
   "execution_count": 10,
   "id": "5d0bd298",
   "metadata": {},
   "outputs": [
    {
     "name": "stdout",
     "output_type": "stream",
     "text": [
      "['Remember,', 'remember,', 'the', 'fifth', 'of', 'July.']\n",
      "There-can-only-one\n"
     ]
    }
   ],
   "source": [
    "'''8. What are the values of the following expressions?'''\n",
    "\n",
    "print('Remember, remember, the fifth of July.'.split())\n",
    "print('-'.join('There can only one'.split()))"
   ]
  },
  {
   "cell_type": "code",
   "execution_count": null,
   "id": "13c07741",
   "metadata": {},
   "outputs": [],
   "source": [
    "'''9. What are the methods for right-justifying, left-justifying, and centering a string?'''\n",
    "\n",
    "# rjust()\n",
    "# ljust()\n",
    "# center()"
   ]
  },
  {
   "cell_type": "code",
   "execution_count": null,
   "id": "a7c41387",
   "metadata": {},
   "outputs": [],
   "source": [
    "'''10. What is the best way to remove whitespace characters from the start or end?'''\n",
    "\n",
    "# lstrip()\n",
    "# rstrip()"
   ]
  }
 ],
 "metadata": {
  "kernelspec": {
   "display_name": "Python 3 (ipykernel)",
   "language": "python",
   "name": "python3"
  },
  "language_info": {
   "codemirror_mode": {
    "name": "ipython",
    "version": 3
   },
   "file_extension": ".py",
   "mimetype": "text/x-python",
   "name": "python",
   "nbconvert_exporter": "python",
   "pygments_lexer": "ipython3",
   "version": "3.9.12"
  }
 },
 "nbformat": 4,
 "nbformat_minor": 5
}
