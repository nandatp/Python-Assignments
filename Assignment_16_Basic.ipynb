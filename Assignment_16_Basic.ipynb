{
 "cells": [
  {
   "cell_type": "code",
   "execution_count": null,
   "id": "d9c8b729",
   "metadata": {},
   "outputs": [],
   "source": [
    "'''\n",
    "\n",
    "\n",
    "\n",
    "\n",
    "\n",
    "\n",
    "\n",
    "\n",
    "'''"
   ]
  },
  {
   "cell_type": "code",
   "execution_count": 1,
   "id": "d11242a6",
   "metadata": {},
   "outputs": [],
   "source": [
    "'''1. Create a list called years_list, starting with the year of your birth, and each year thereafter until\n",
    "the year of your fifth birthday. For example, if you were born in 1980. the list would be years_list =\n",
    "[1980, 1981, 1982, 1983, 1984, 1985].'''\n",
    "\n",
    "years_list = [1986, 1987, 1988, 1989, 1990, 1991]"
   ]
  },
  {
   "cell_type": "code",
   "execution_count": 2,
   "id": "0c36e15b",
   "metadata": {},
   "outputs": [
    {
     "name": "stdout",
     "output_type": "stream",
     "text": [
      "1989\n"
     ]
    }
   ],
   "source": [
    "'''2. In which year in years_list was your third birthday? Remember, you were 0 years of age for your\n",
    "first year.'''\n",
    "\n",
    "third_birthday = years_list[3]\n",
    "print(third_birthday)"
   ]
  },
  {
   "cell_type": "code",
   "execution_count": 4,
   "id": "32360f0a",
   "metadata": {},
   "outputs": [
    {
     "name": "stdout",
     "output_type": "stream",
     "text": [
      "1991\n"
     ]
    }
   ],
   "source": [
    "# 3.In the years list, which year were you the oldest?\n",
    "\n",
    "print(years_list[-1])"
   ]
  },
  {
   "cell_type": "code",
   "execution_count": 6,
   "id": "fda0f22f",
   "metadata": {},
   "outputs": [],
   "source": [
    "'''4. Make a list called things with these three strings as elements: &quot;mozzarella&quot;, &quot;cinderella&quot;,\n",
    "&quot;salmonella&quot;.'''\n",
    "\n",
    "things = ['mozzarella', 'cinderella', 'salmonella']"
   ]
  },
  {
   "cell_type": "code",
   "execution_count": 7,
   "id": "48c5e8be",
   "metadata": {},
   "outputs": [
    {
     "name": "stdout",
     "output_type": "stream",
     "text": [
      "['mozzarella', 'CINDERELLA', 'salmonella']\n"
     ]
    }
   ],
   "source": [
    "'''5. Capitalize the element in things that refers to a person and then print the list. Did it change the\n",
    "element in the list?'''\n",
    "\n",
    "things[1] = things[1].upper()\n",
    "print(things)\n",
    "\n",
    "'''Yes it changed the element in the list'''"
   ]
  },
  {
   "cell_type": "code",
   "execution_count": 8,
   "id": "1c15321f",
   "metadata": {},
   "outputs": [],
   "source": [
    "'''6. Make a surprise list with the elements &quot;Groucho,&quot; &quot;Chico,&quot; and &quot;Harpo.&quot;'''\n",
    "\n",
    "surprise = ['Groucho', 'Chico', 'Harpo']"
   ]
  },
  {
   "cell_type": "code",
   "execution_count": 15,
   "id": "fda41480",
   "metadata": {},
   "outputs": [
    {
     "name": "stdout",
     "output_type": "stream",
     "text": [
      "['HARPO', 'CHICO', 'GROUCHO']\n"
     ]
    }
   ],
   "source": [
    "'''7. Lowercase the last element of the surprise list, reverse it, and then capitalize it.'''\n",
    "\n",
    "surprise = [name.lower() for name in surprise]\n",
    "surprise = surprise[::-1]\n",
    "surprise = [name.upper() for name in surprise]\n",
    "print(surprise)"
   ]
  },
  {
   "cell_type": "code",
   "execution_count": 16,
   "id": "a4b0943b",
   "metadata": {},
   "outputs": [],
   "source": [
    "'''8. Make an English-to-French dictionary called e2f and print it. Here are your starter words: dog is\n",
    "chien, cat is chat, and walrus is morse.'''\n",
    "\n",
    "e2f = {\n",
    "    'dog': 'chien',\n",
    "    'cat': 'chat',\n",
    "    'walrus':'morse',\n",
    "}"
   ]
  },
  {
   "cell_type": "code",
   "execution_count": 17,
   "id": "8f4972a7",
   "metadata": {},
   "outputs": [
    {
     "name": "stdout",
     "output_type": "stream",
     "text": [
      "morse\n"
     ]
    }
   ],
   "source": [
    "'''9. Write the French word for walrus in your three-word dictionary e2f.'''\n",
    "print(e2f['walrus'])"
   ]
  },
  {
   "cell_type": "code",
   "execution_count": 20,
   "id": "2f8b6f34",
   "metadata": {},
   "outputs": [
    {
     "name": "stdout",
     "output_type": "stream",
     "text": [
      "{'chien': 'dog', 'chat': 'cat', 'morse': 'walrus'}\n"
     ]
    }
   ],
   "source": [
    "'''10. Make a French-to-English dictionary called f2e from e2f. Use the items method.'''\n",
    "\n",
    "f2e = {value:key for key, value in e2f.items()}\n",
    "print(f2e)"
   ]
  },
  {
   "cell_type": "code",
   "execution_count": 21,
   "id": "1a81ba0a",
   "metadata": {},
   "outputs": [
    {
     "name": "stdout",
     "output_type": "stream",
     "text": [
      "dog\n"
     ]
    }
   ],
   "source": [
    "'''11. Print the English version of the French word chien using f2e.'''\n",
    "print(f2e['chien'])"
   ]
  },
  {
   "cell_type": "code",
   "execution_count": 22,
   "id": "ddb5107b",
   "metadata": {},
   "outputs": [
    {
     "name": "stdout",
     "output_type": "stream",
     "text": [
      "dog\n",
      "cat\n",
      "walrus\n"
     ]
    }
   ],
   "source": [
    "'''12. Make and print a set of English words from the keys in e2f.'''\n",
    "\n",
    "for key in e2f.keys():\n",
    "    print(key)"
   ]
  },
  {
   "cell_type": "code",
   "execution_count": 25,
   "id": "b273cfd3",
   "metadata": {},
   "outputs": [],
   "source": [
    "'''13. Make a multilevel dictionary called life. Use these strings for the topmost keys: &#39;animals&#39;, &#39;plants&#39;,\n",
    "and &#39;other&#39;. Make the &#39;animals&#39; key refer to another dictionary with the keys &#39;cats&#39;, &#39;octopi&#39;, and\n",
    "&#39;emus&#39;. Make the &#39;cats&#39; key refer to a list of strings with the values &#39;Henri&#39;, &#39;Grumpy&#39;, and &#39;Lucy&#39;.\n",
    "Make all the other keys refer to empty dictionaries.'''\n",
    "\n",
    "life = {\n",
    "    'animals': {'cats': ['Henri', 'Grumpy', 'Lucy'], 'octopi': [] , 'emus': [] ,} ,\n",
    "    'plants': {},\n",
    "    'other': {},\n",
    "}"
   ]
  },
  {
   "cell_type": "code",
   "execution_count": 26,
   "id": "29961c02",
   "metadata": {},
   "outputs": [
    {
     "name": "stdout",
     "output_type": "stream",
     "text": [
      "animals\n",
      "plants\n",
      "other\n"
     ]
    }
   ],
   "source": [
    "# 14. Print the top-level keys of life.\n",
    "\n",
    "for key in life.keys():\n",
    "    print(key)\n"
   ]
  },
  {
   "cell_type": "code",
   "execution_count": 27,
   "id": "674c38e3",
   "metadata": {},
   "outputs": [
    {
     "name": "stdout",
     "output_type": "stream",
     "text": [
      "cats\n",
      "octopi\n",
      "emus\n"
     ]
    }
   ],
   "source": [
    "# 15. Print the keys for life[&#39;animals&#39;].\n",
    "\n",
    "for key in life['animals'].keys():\n",
    "    print(key)"
   ]
  },
  {
   "cell_type": "code",
   "execution_count": 28,
   "id": "cc36a5dc",
   "metadata": {},
   "outputs": [
    {
     "name": "stdout",
     "output_type": "stream",
     "text": [
      "Henri\n",
      "Grumpy\n",
      "Lucy\n"
     ]
    }
   ],
   "source": [
    "# 16. Print the values for life[&#39;animals&#39;][&#39;cats&#39;]\n",
    "\n",
    "for cat in life['animals']['cats']:\n",
    "    print(cat)"
   ]
  }
 ],
 "metadata": {
  "kernelspec": {
   "display_name": "Python 3 (ipykernel)",
   "language": "python",
   "name": "python3"
  },
  "language_info": {
   "codemirror_mode": {
    "name": "ipython",
    "version": 3
   },
   "file_extension": ".py",
   "mimetype": "text/x-python",
   "name": "python",
   "nbconvert_exporter": "python",
   "pygments_lexer": "ipython3",
   "version": "3.9.12"
  }
 },
 "nbformat": 4,
 "nbformat_minor": 5
}
