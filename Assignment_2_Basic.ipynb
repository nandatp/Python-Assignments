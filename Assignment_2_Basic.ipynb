{
 "cells": [
  {
   "cell_type": "code",
   "execution_count": 2,
   "id": "f2949e25",
   "metadata": {},
   "outputs": [
    {
     "name": "stdout",
     "output_type": "stream",
     "text": [
      "True\n",
      "False\n"
     ]
    }
   ],
   "source": [
    "'''1.What are the two values of the Boolean data type? How do you write them?'''\n",
    "''' True = 1 & False = 0 '''\n",
    "print(True)\n",
    "print(False)"
   ]
  },
  {
   "cell_type": "code",
   "execution_count": 4,
   "id": "fd528e39",
   "metadata": {},
   "outputs": [
    {
     "data": {
      "text/plain": [
       "'and, or, not'"
      ]
     },
     "execution_count": 4,
     "metadata": {},
     "output_type": "execute_result"
    }
   ],
   "source": [
    "'''2. What are the three different types of Boolean operators?'''\n",
    "'''and, or, not'''"
   ]
  },
  {
   "cell_type": "code",
   "execution_count": 5,
   "id": "91deba7a",
   "metadata": {},
   "outputs": [
    {
     "data": {
      "text/plain": [
       "' 0 0 1\\n    0 1 0\\n    1 0 0\\n    1 1 1'"
      ]
     },
     "execution_count": 5,
     "metadata": {},
     "output_type": "execute_result"
    }
   ],
   "source": [
    "'''3. Make a list of each Boolean operator&#39;s truth tables (i.e. every possible combination of Boolean\n",
    "values for the operator and what it evaluate ).'''\n",
    "\n",
    "''' AND Table '''\n",
    "''' A B Output '''\n",
    "''' 0 0 0\n",
    "    0 1 0\n",
    "    1 0 0\n",
    "    1 1 1'''\n",
    "\n",
    "''' NAND Table '''\n",
    "''' A B Output '''\n",
    "''' 0 0 1\n",
    "    0 1 1\n",
    "    1 0 1\n",
    "    1 1 0'''\n",
    "\n",
    "''' OR Table '''\n",
    "''' A B Output '''\n",
    "''' 0 0 0\n",
    "    0 1 1\n",
    "    1 0 1\n",
    "    1 1 1'''\n",
    "\n",
    "''' NOR Table '''\n",
    "''' A B Output '''\n",
    "''' 0 0 1\n",
    "    0 1 0\n",
    "    1 0 0\n",
    "    1 1 0'''\n",
    "\n",
    "''' EX OR Table '''\n",
    "''' A B Output '''\n",
    "''' 0 0 0\n",
    "    0 1 1\n",
    "    1 0 1\n",
    "    1 1 0'''\n",
    "\n",
    "''' EX NOR Table '''\n",
    "''' A B Output '''\n",
    "''' 0 0 1\n",
    "    0 1 0\n",
    "    1 0 0\n",
    "    1 1 1'''"
   ]
  },
  {
   "cell_type": "code",
   "execution_count": 12,
   "id": "9b459e91",
   "metadata": {},
   "outputs": [
    {
     "name": "stdout",
     "output_type": "stream",
     "text": [
      "False\n",
      "False\n",
      "True\n",
      "False\n",
      "False\n",
      "True\n"
     ]
    }
   ],
   "source": [
    "'''\n",
    "4. What are the values of the following expressions?\n",
    "(5 > 4) and (3 == 5)\n",
    "not (5 > 4)\n",
    "(5 > 4) or (3 == 5)\n",
    "not ((5 > 4) or (3 == 5))\n",
    "(True and True) and (True == False)\n",
    "(not False) or (not True)\n",
    "\n",
    "'''\n",
    "print((5 > 4) and (3 == 5))\n",
    "print(not (5 > 4))\n",
    "print((5 > 4) or (3 == 5))\n",
    "print(not ((5 > 4) or (3 == 5)))\n",
    "print((True and True) and (True == False))\n",
    "print((not False) or (not True))"
   ]
  },
  {
   "cell_type": "code",
   "execution_count": 13,
   "id": "9bb06277",
   "metadata": {},
   "outputs": [
    {
     "data": {
      "text/plain": [
       "'\\n>\\n>=\\n<\\n<=\\n==\\n!=\\n'"
      ]
     },
     "execution_count": 13,
     "metadata": {},
     "output_type": "execute_result"
    }
   ],
   "source": [
    "'''5. What are the six comparison operators?'''\n",
    "'''\n",
    ">\n",
    ">=\n",
    "<\n",
    "<=\n",
    "==\n",
    "!=\n",
    "'''"
   ]
  },
  {
   "cell_type": "code",
   "execution_count": null,
   "id": "0e65f2ea",
   "metadata": {},
   "outputs": [],
   "source": [
    "'''6. How do you tell the difference between the equal to and assignment operators?Describe a\n",
    "condition and when you would use one.'''\n",
    "# equal to '=='\n",
    "# assignment '='\n",
    "# when you are comparing you use equal to (==)\n",
    "# when you are assigning a value to a variable you use (=) "
   ]
  },
  {
   "cell_type": "code",
   "execution_count": 14,
   "id": "4544250c",
   "metadata": {},
   "outputs": [
    {
     "name": "stdout",
     "output_type": "stream",
     "text": [
      "ham\n",
      "spam\n",
      "spam\n"
     ]
    }
   ],
   "source": [
    "'''7. Identify the three blocks in this code:\n",
    "spam = 0\n",
    "if spam == 10:\n",
    "print(&#39;eggs&#39;)\n",
    "if spam &gt; 5:\n",
    "print(&#39;bacon&#39;)\n",
    "else:\n",
    "print(&#39;ham&#39;)\n",
    "print(&#39;spam&#39;)\n",
    "print(&#39;spam&#39;)'''\n",
    "\n",
    "spam = 0\n",
    "if spam == 10:\n",
    "    print('eggs')\n",
    "if spam > 5:\n",
    "    print('bacon')\n",
    "else:\n",
    "    print('ham')\n",
    "    print('spam')\n",
    "    print('spam')\n"
   ]
  },
  {
   "cell_type": "code",
   "execution_count": 15,
   "id": "e355a169",
   "metadata": {},
   "outputs": [
    {
     "name": "stdout",
     "output_type": "stream",
     "text": [
      "Greetings\n"
     ]
    }
   ],
   "source": [
    "'''8. Write code that prints Hello if 1 is stored in spam, prints Howdy if 2 is stored in spam, and prints\n",
    "Greetings! if anything else is stored in spam.'''\n",
    "if spam == 1:\n",
    "    print('Hello')\n",
    "elif spam == 2:\n",
    "    print(\"Howdy\")\n",
    "else:\n",
    "    print(\"Greetings\")"
   ]
  },
  {
   "cell_type": "code",
   "execution_count": null,
   "id": "bd184a6f",
   "metadata": {},
   "outputs": [],
   "source": [
    "'''9.If your programme is stuck in an endless loop, what keys you’ll press?'''\n",
    "'''CTRL + C'''"
   ]
  },
  {
   "cell_type": "code",
   "execution_count": null,
   "id": "d4e8f55d",
   "metadata": {},
   "outputs": [],
   "source": [
    "'''10.How can you tell the difference between break and continue?'''\n",
    "'''break statement will stop the loop where the statement is placed\n",
    "   Whereas continue statement will skip a iteration when a condition is met'''"
   ]
  },
  {
   "cell_type": "code",
   "execution_count": 20,
   "id": "67134b29",
   "metadata": {},
   "outputs": [
    {
     "name": "stdout",
     "output_type": "stream",
     "text": [
      "Its all same\n"
     ]
    }
   ],
   "source": [
    "'''11. In a for loop, what is the difference between range(10), range(0, 10), and range(0, 10, 1)?'''\n",
    "print(\"Its all same\")\n"
   ]
  },
  {
   "cell_type": "code",
   "execution_count": 22,
   "id": "c7b56b9b",
   "metadata": {},
   "outputs": [
    {
     "name": "stdout",
     "output_type": "stream",
     "text": [
      "1\n",
      "2\n",
      "3\n",
      "4\n",
      "5\n",
      "6\n",
      "7\n",
      "8\n",
      "9\n",
      "10\n"
     ]
    }
   ],
   "source": [
    "'''12. Write a short program that prints the numbers 1 to 10 using a for loop. Then write an equivalent\n",
    "program that prints the numbers 1 to 10 using a while loop.'''\n",
    "\n",
    "for i in range(1,11):\n",
    "    print(i)"
   ]
  },
  {
   "cell_type": "code",
   "execution_count": 25,
   "id": "82f56d99",
   "metadata": {},
   "outputs": [
    {
     "name": "stdout",
     "output_type": "stream",
     "text": [
      "1\n",
      "2\n",
      "3\n",
      "4\n",
      "5\n",
      "6\n",
      "7\n",
      "8\n",
      "9\n",
      "10\n"
     ]
    }
   ],
   "source": [
    "i = 1\n",
    "while i < 11:\n",
    "    print(i)\n",
    "    i += 1"
   ]
  },
  {
   "cell_type": "code",
   "execution_count": 26,
   "id": "e8461623",
   "metadata": {},
   "outputs": [
    {
     "name": "stdout",
     "output_type": "stream",
     "text": [
      "spam.bacon()\n"
     ]
    }
   ],
   "source": [
    "'''13. If you had a function named bacon() inside a module named spam, how would you call it after\n",
    "importing spam?'''\n",
    "print('spam.bacon()')"
   ]
  },
  {
   "cell_type": "code",
   "execution_count": null,
   "id": "bb7623d3",
   "metadata": {},
   "outputs": [],
   "source": []
  }
 ],
 "metadata": {
  "kernelspec": {
   "display_name": "Python 3 (ipykernel)",
   "language": "python",
   "name": "python3"
  },
  "language_info": {
   "codemirror_mode": {
    "name": "ipython",
    "version": 3
   },
   "file_extension": ".py",
   "mimetype": "text/x-python",
   "name": "python",
   "nbconvert_exporter": "python",
   "pygments_lexer": "ipython3",
   "version": "3.9.12"
  }
 },
 "nbformat": 4,
 "nbformat_minor": 5
}
