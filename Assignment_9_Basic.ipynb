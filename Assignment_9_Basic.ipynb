{
 "cells": [
  {
   "cell_type": "code",
   "execution_count": null,
   "id": "68c55eb4",
   "metadata": {},
   "outputs": [],
   "source": [
    "'''\n",
    "\n"
   ]
  },
  {
   "cell_type": "code",
   "execution_count": null,
   "id": "ecfdeda4",
   "metadata": {},
   "outputs": [],
   "source": [
    "# 1. To what does a relative path refer?\n",
    "\n",
    "'''Relative path refers to a location relative to your current directory'''"
   ]
  },
  {
   "cell_type": "code",
   "execution_count": null,
   "id": "397ed3ac",
   "metadata": {},
   "outputs": [],
   "source": [
    "# 2. What does an absolute path start with your operating system?\n",
    "\n",
    "'''Absolute path starts with Drive letter followed by colon'''"
   ]
  },
  {
   "cell_type": "code",
   "execution_count": null,
   "id": "f14c0965",
   "metadata": {},
   "outputs": [],
   "source": [
    "# 3. What do the functions os.getcwd() and os.chdir() do?\n",
    "\n",
    "'''the emthod getcwd() return current working directory of a process'''\n",
    "'''chdir() changes current working directory to the given path'''\n"
   ]
  },
  {
   "cell_type": "code",
   "execution_count": null,
   "id": "573ffc7d",
   "metadata": {},
   "outputs": [],
   "source": [
    "# 4. What are the . and .. folders?\n",
    "''' . referes to current directory and .. referes to parent directory '''"
   ]
  },
  {
   "cell_type": "code",
   "execution_count": null,
   "id": "0e35f060",
   "metadata": {},
   "outputs": [],
   "source": [
    "# 5. In C:\\bacon\\eggs\\spam.txt, which part is the dir name, and which part is the base name?\n",
    "'''C:\\bacon\\eggs\\ - directory name'''\n",
    "'''spam.txt -- base name'''"
   ]
  },
  {
   "cell_type": "code",
   "execution_count": null,
   "id": "1aeecf84",
   "metadata": {},
   "outputs": [],
   "source": [
    "# 6. What are the three “mode” arguments that can be passed to the open() function?\n",
    "\n",
    "'''Write only, Read only, write and read'''"
   ]
  },
  {
   "cell_type": "code",
   "execution_count": null,
   "id": "a3576db9",
   "metadata": {},
   "outputs": [],
   "source": [
    "# 7. What happens if an existing file is opened in write mode?\n",
    "'''override the content of file by new data.'''"
   ]
  },
  {
   "cell_type": "code",
   "execution_count": null,
   "id": "2bd59a6f",
   "metadata": {},
   "outputs": [],
   "source": [
    "# 8. How do you tell the difference between read() and readlines()?\n",
    "\n",
    "'''read() returns specified number of bytes from the file'''\n",
    "'''readlines() returns the list containing each line in the file as a list item'''\n"
   ]
  },
  {
   "cell_type": "code",
   "execution_count": null,
   "id": "18b4c598",
   "metadata": {},
   "outputs": [],
   "source": [
    "# 9. What data structure does a shelf value resemble?\n",
    "\n",
    "'''Shelf value resembles dictonary value, it has value key pair'''"
   ]
  }
 ],
 "metadata": {
  "kernelspec": {
   "display_name": "Python 3 (ipykernel)",
   "language": "python",
   "name": "python3"
  },
  "language_info": {
   "codemirror_mode": {
    "name": "ipython",
    "version": 3
   },
   "file_extension": ".py",
   "mimetype": "text/x-python",
   "name": "python",
   "nbconvert_exporter": "python",
   "pygments_lexer": "ipython3",
   "version": "3.9.12"
  }
 },
 "nbformat": 4,
 "nbformat_minor": 5
}
