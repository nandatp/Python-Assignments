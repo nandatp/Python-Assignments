{
 "cells": [
  {
   "cell_type": "code",
   "execution_count": null,
   "id": "67582ef6",
   "metadata": {},
   "outputs": [],
   "source": [
    "# 1. What does RGBA stand for?\n",
    "\n",
    "'''Red Green Blue Alpha'''"
   ]
  },
  {
   "cell_type": "code",
   "execution_count": null,
   "id": "039c5dec",
   "metadata": {},
   "outputs": [],
   "source": [
    "# 2. From the Pillow module, how do you get the RGBA value of any images?\n",
    "\n",
    "'''PIL.ImageColor.getrgb(color)'''"
   ]
  },
  {
   "cell_type": "code",
   "execution_count": null,
   "id": "a6d12d01",
   "metadata": {},
   "outputs": [],
   "source": [
    "# 3. What is a box tuple, and how does it work?\n",
    "\n",
    "'''Tuple of four integer coordinates that represents a rectangular region of an image'''"
   ]
  },
  {
   "cell_type": "code",
   "execution_count": 5,
   "id": "8385b6dd",
   "metadata": {},
   "outputs": [
    {
     "name": "stdout",
     "output_type": "stream",
     "text": [
      "816\n",
      "1088\n"
     ]
    }
   ],
   "source": [
    "# 4. Use your image and load in notebook then, How can you find out the width and height of an Image object?\n",
    "\n",
    "from PIL import Image\n",
    "catIm = Image.open('zophie.png')\n",
    "width, height =  catIm.size\n",
    "print(width)\n",
    "print(height)"
   ]
  },
  {
   "cell_type": "code",
   "execution_count": 9,
   "id": "37e6e658",
   "metadata": {},
   "outputs": [],
   "source": [
    "# 5. What method would you call to get Image object for a 100×100 image, excluding the lower-left quarter of it?\n",
    "\n",
    "resizedIm = catIm.resize((100, 100))\n",
    "resizedIm.save('resized.png')"
   ]
  },
  {
   "cell_type": "code",
   "execution_count": null,
   "id": "8f91628d",
   "metadata": {},
   "outputs": [],
   "source": [
    "# 6. After making changes to an Image object, how could you save it as an image file?\n",
    "\n",
    "'''resizedIm.save('resized.png')'''"
   ]
  },
  {
   "cell_type": "code",
   "execution_count": null,
   "id": "bfcbacb1",
   "metadata": {},
   "outputs": [],
   "source": [
    "# 7. What module contains Pillow’s shape-drawing code?\n",
    "\n",
    "'''ImageDraw module'''"
   ]
  },
  {
   "cell_type": "code",
   "execution_count": null,
   "id": "e129bc45",
   "metadata": {},
   "outputs": [],
   "source": [
    "# 8. Image objects do not have drawing methods. What kind of object does? How do you get this kind of object?\n",
    "\n",
    "'''Pass the image object to ImageDraw.Draw() function to get ImageDraw object, ---ImageDraw object has several methods to draw shapes on to the Image object'''"
   ]
  }
 ],
 "metadata": {
  "kernelspec": {
   "display_name": "Python 3 (ipykernel)",
   "language": "python",
   "name": "python3"
  },
  "language_info": {
   "codemirror_mode": {
    "name": "ipython",
    "version": 3
   },
   "file_extension": ".py",
   "mimetype": "text/x-python",
   "name": "python",
   "nbconvert_exporter": "python",
   "pygments_lexer": "ipython3",
   "version": "3.9.12"
  }
 },
 "nbformat": 4,
 "nbformat_minor": 5
}
