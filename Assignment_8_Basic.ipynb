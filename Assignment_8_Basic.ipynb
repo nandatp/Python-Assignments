{
 "cells": [
  {
   "cell_type": "code",
   "execution_count": null,
   "id": "ca14fc73",
   "metadata": {},
   "outputs": [],
   "source": [
    "'''\n",
    "\n",
    "\n",
    "\n"
   ]
  },
  {
   "cell_type": "code",
   "execution_count": null,
   "id": "7bd3d41f",
   "metadata": {},
   "outputs": [],
   "source": [
    "# 1. Is the Python Standard Library included with PyInputPlus?\n",
    "\n",
    "''' PyInputPlus is not part of standard library, it needs to be installed seperately '''"
   ]
  },
  {
   "cell_type": "code",
   "execution_count": null,
   "id": "17a7f8fd",
   "metadata": {},
   "outputs": [],
   "source": [
    "# 2. Why is PyInputPlus commonly imported with import pyinputplus as pypi?\n",
    "\n",
    "'''pypi is acronym for pyinputplus module, it will easier to create objects using its acronym'''"
   ]
  },
  {
   "cell_type": "code",
   "execution_count": null,
   "id": "bd231784",
   "metadata": {},
   "outputs": [],
   "source": [
    "# 3. How do you distinguish between inputInt() and inputFloat()?\n",
    "\n",
    "'''inputInt() allows only integer as a input\n",
    "where as inputFloat() accepts only Floating point as a input'''"
   ]
  },
  {
   "cell_type": "code",
   "execution_count": null,
   "id": "8cc6176b",
   "metadata": {},
   "outputs": [],
   "source": [
    "# 4. Using PyInputPlus, how do you ensure that the user enters a whole number between 0 and 99?\n",
    "\n",
    "'''pyip.inputInt(min=0, max=99)'''"
   ]
  },
  {
   "cell_type": "code",
   "execution_count": null,
   "id": "94fb0e31",
   "metadata": {},
   "outputs": [],
   "source": [
    "# 5. What is transferred to the keyword arguments allowRegexes and blockRegexes?\n",
    "\n",
    "'''keyword arguments takes list of regular expression string'''"
   ]
  },
  {
   "cell_type": "code",
   "execution_count": null,
   "id": "32c8305f",
   "metadata": {},
   "outputs": [],
   "source": [
    "# 6. If a blank input is entered three times, what does inputStr(limit=3) do?\n",
    "\n",
    "''' It will throw RetryLimitException exception.'''"
   ]
  },
  {
   "cell_type": "code",
   "execution_count": null,
   "id": "01afdb44",
   "metadata": {},
   "outputs": [],
   "source": [
    "# 7. If blank input is entered three times, what does inputStr(limit=3, default=&#39;hello&#39;) do?\n",
    "\n",
    "'''When you use limit keyword arguments and also pass a default keyword argument, the function returns the default value instead of raising an exception'''"
   ]
  }
 ],
 "metadata": {
  "kernelspec": {
   "display_name": "Python 3 (ipykernel)",
   "language": "python",
   "name": "python3"
  },
  "language_info": {
   "codemirror_mode": {
    "name": "ipython",
    "version": 3
   },
   "file_extension": ".py",
   "mimetype": "text/x-python",
   "name": "python",
   "nbconvert_exporter": "python",
   "pygments_lexer": "ipython3",
   "version": "3.9.12"
  }
 },
 "nbformat": 4,
 "nbformat_minor": 5
}
