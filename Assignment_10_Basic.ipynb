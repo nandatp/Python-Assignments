{
 "cells": [
  {
   "cell_type": "code",
   "execution_count": null,
   "id": "24c10cf0",
   "metadata": {},
   "outputs": [],
   "source": [
    "# 1. How do you distinguish between shutil.copy() and shutil.copytree()?\n",
    "\n",
    "'''shutil.copy() copies a file from a source path to the destination path'''\n",
    "'''shutil.copytree() copies entire folder from a source path to destination path'''"
   ]
  },
  {
   "cell_type": "code",
   "execution_count": null,
   "id": "e18fda70",
   "metadata": {},
   "outputs": [],
   "source": [
    "# 2. What function is used to rename files??\n",
    "\n",
    "'''shutil.move('C:\\\\bacon.txt', 'C:\\\\new_bacon.txt')'''\n",
    "'''Above code renames bacon.txt to new_bacon.txt'''"
   ]
  },
  {
   "cell_type": "code",
   "execution_count": null,
   "id": "4c8bda63",
   "metadata": {},
   "outputs": [],
   "source": [
    "# 3. What is the difference between the delete functions in the send2trash and shutil modules?\n",
    "\n",
    "'''send2trash sends the file to Recycle Bin or Trash folder'''\n",
    "'''Where as shutil modules removes the file or folder permanently'''"
   ]
  },
  {
   "cell_type": "code",
   "execution_count": null,
   "id": "f7bf165b",
   "metadata": {},
   "outputs": [],
   "source": [
    "'''4.ZipFile objects have a close() method just like File objects’ close() method. What ZipFile method is\n",
    "equivalent to File objects’ open() method?'''\n",
    "\n",
    "'''Zipfile.close() is the equivalent'''"
   ]
  },
  {
   "cell_type": "code",
   "execution_count": null,
   "id": "330f0d80",
   "metadata": {},
   "outputs": [],
   "source": [
    "'''5. Create a programme that searches a folder tree for files with a certain file extension (such as .pdf\n",
    "or .jpg). Copy these files from whatever location they are in to a new folder.'''\n",
    "\n"
   ]
  }
 ],
 "metadata": {
  "kernelspec": {
   "display_name": "Python 3 (ipykernel)",
   "language": "python",
   "name": "python3"
  },
  "language_info": {
   "codemirror_mode": {
    "name": "ipython",
    "version": 3
   },
   "file_extension": ".py",
   "mimetype": "text/x-python",
   "name": "python",
   "nbconvert_exporter": "python",
   "pygments_lexer": "ipython3",
   "version": "3.9.12"
  }
 },
 "nbformat": 4,
 "nbformat_minor": 5
}
