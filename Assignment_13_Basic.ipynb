{
 "cells": [
  {
   "cell_type": "code",
   "execution_count": null,
   "id": "c1f39129",
   "metadata": {},
   "outputs": [],
   "source": [
    "# 1. What advantages do Excel spreadsheets have over CSV spreadsheets?\n",
    "\n",
    "'''You can do operations on  Excel spreadsheets, and also data can be shown '''"
   ]
  },
  {
   "cell_type": "code",
   "execution_count": null,
   "id": "4535ba15",
   "metadata": {},
   "outputs": [],
   "source": [
    "# 2.What do you pass to csv.reader() and csv.writer() to create reader and writer objects?\n",
    "\n",
    "'''File object is passed on to csv.reader() and csv.writer()'''"
   ]
  },
  {
   "cell_type": "code",
   "execution_count": null,
   "id": "c42bf180",
   "metadata": {},
   "outputs": [],
   "source": [
    "# 3. What modes do File objects for reader and writer objects need to be opened in?\n",
    "\n",
    "'''Read and Write mode'''"
   ]
  },
  {
   "cell_type": "code",
   "execution_count": null,
   "id": "c106179d",
   "metadata": {},
   "outputs": [],
   "source": [
    "# 4. What method takes a list argument and writes it to a CSV file?\n",
    "'''writerow()'''"
   ]
  },
  {
   "cell_type": "code",
   "execution_count": null,
   "id": "ef0d0567",
   "metadata": {},
   "outputs": [],
   "source": [
    "# 5. What do the keyword arguments delimiter and line terminator do?\n",
    "\n",
    "'''delimiter specifies the character used to separate each field'''\n",
    "'''A lineterminator is a string used to terminate lines produced by writer objects'''"
   ]
  },
  {
   "cell_type": "code",
   "execution_count": null,
   "id": "2d9e28a1",
   "metadata": {},
   "outputs": [],
   "source": [
    "# 6. What function takes a string of JSON data and returns a Python data structure?\n",
    "\n",
    "'''json.loads()'''\n"
   ]
  },
  {
   "cell_type": "code",
   "execution_count": null,
   "id": "548dfca1",
   "metadata": {},
   "outputs": [],
   "source": [
    "# 7. What function takes a Python data structure and returns a string of JSON data?'''\n",
    "\n",
    "'''json.dumps()'''"
   ]
  }
 ],
 "metadata": {
  "kernelspec": {
   "display_name": "Python 3 (ipykernel)",
   "language": "python",
   "name": "python3"
  },
  "language_info": {
   "codemirror_mode": {
    "name": "ipython",
    "version": 3
   },
   "file_extension": ".py",
   "mimetype": "text/x-python",
   "name": "python",
   "nbconvert_exporter": "python",
   "pygments_lexer": "ipython3",
   "version": "3.9.12"
  }
 },
 "nbformat": 4,
 "nbformat_minor": 5
}
