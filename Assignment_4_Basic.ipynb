{
 "cells": [
  {
   "cell_type": "code",
   "execution_count": null,
   "id": "637756dd",
   "metadata": {},
   "outputs": [],
   "source": [
    "'''1. What exactly is []?'''\n",
    "\n",
    "'''Empty list'''"
   ]
  },
  {
   "cell_type": "code",
   "execution_count": 5,
   "id": "92e9269b",
   "metadata": {},
   "outputs": [
    {
     "name": "stdout",
     "output_type": "stream",
     "text": [
      "[2, 4, 'hello', 6, 8, 10]\n"
     ]
    }
   ],
   "source": [
    "'''2. In a list of values stored in a variable called spam, how would you assign the value &#39;hello&#39; as the\n",
    "third value? (Assume [2, 4, 6, 8, 10] are in spam.)'''\n",
    "\n",
    "spam = [2, 4, 6, 8, 10]\n",
    "spam.insert(2, 'hello')\n",
    "print(spam)"
   ]
  },
  {
   "cell_type": "code",
   "execution_count": 12,
   "id": "761820da",
   "metadata": {},
   "outputs": [
    {
     "name": "stdout",
     "output_type": "stream",
     "text": [
      "d\n"
     ]
    }
   ],
   "source": [
    "'''3. spam[int(int('3'* 2) / 11)]?'''\n",
    "spam = ['a', 'b', 'c', 'd']\n",
    "\n",
    "print(spam[int(int('3'* 2) / 11)])\n",
    "\n",
    "'''d'''"
   ]
  },
  {
   "cell_type": "code",
   "execution_count": 14,
   "id": "45dcd9d1",
   "metadata": {},
   "outputs": [
    {
     "name": "stdout",
     "output_type": "stream",
     "text": [
      "d\n"
     ]
    }
   ],
   "source": [
    "'''4. What is the value of spam[-1]?'''\n",
    "print(spam[-1])\n",
    "'''d'''"
   ]
  },
  {
   "cell_type": "code",
   "execution_count": 15,
   "id": "63efdf1c",
   "metadata": {},
   "outputs": [
    {
     "name": "stdout",
     "output_type": "stream",
     "text": [
      "['a', 'b']\n"
     ]
    }
   ],
   "source": [
    "'''5. What is the value of spam[:2]?'''\n",
    "print(spam[:2])"
   ]
  },
  {
   "cell_type": "code",
   "execution_count": 17,
   "id": "b48dc7c8",
   "metadata": {},
   "outputs": [
    {
     "name": "stdout",
     "output_type": "stream",
     "text": [
      "1\n"
     ]
    },
    {
     "data": {
      "text/plain": [
       "'1'"
      ]
     },
     "execution_count": 17,
     "metadata": {},
     "output_type": "execute_result"
    }
   ],
   "source": [
    "bacon =  [3.14, 'cat', 11, 'cat', True]\n",
    "\n",
    "'''6. What is the value of bacon.index('cat')?'''\n",
    "print(bacon.index('cat'))\n",
    "\n",
    "'''1'''"
   ]
  },
  {
   "cell_type": "code",
   "execution_count": 18,
   "id": "50ff3629",
   "metadata": {},
   "outputs": [
    {
     "name": "stdout",
     "output_type": "stream",
     "text": [
      "[3.14, 'cat', 11, 'cat', True, 99]\n"
     ]
    }
   ],
   "source": [
    "'''7. How does bacon.append(99) change the look of the list value in bacon?'''\n",
    "\n",
    "'''it will be added to the end of the list'''\n",
    "bacon.append(99)\n",
    "print(bacon)"
   ]
  },
  {
   "cell_type": "code",
   "execution_count": 19,
   "id": "2bec44bb",
   "metadata": {},
   "outputs": [
    {
     "name": "stdout",
     "output_type": "stream",
     "text": [
      "[3.14, 11, 'cat', True, 99]\n"
     ]
    }
   ],
   "source": [
    "'''8. How does bacon.remove('cat') change the look of the list in bacon?'''\n",
    "'''it will remove the first instance of the value cat'''\n",
    "\n",
    "bacon.remove('cat')\n",
    "print(bacon)\n"
   ]
  },
  {
   "cell_type": "code",
   "execution_count": 20,
   "id": "b681ca4e",
   "metadata": {},
   "outputs": [
    {
     "name": "stdout",
     "output_type": "stream",
     "text": [
      "[1, 2, 3, 4, 5, 6]\n",
      "[1, 2, 3, 1, 2, 3, 1, 2, 3]\n"
     ]
    }
   ],
   "source": [
    "'''9. What are the list concatenation and list replication operators?'''\n",
    "a = [1,2,3]\n",
    "b = [4,5,6]\n",
    "'''List concatination'''\n",
    "c = a + b\n",
    "print(c)\n",
    "'''List replication'''\n",
    "d = a * 3\n",
    "print(d)"
   ]
  },
  {
   "cell_type": "code",
   "execution_count": null,
   "id": "8fbd2bcb",
   "metadata": {},
   "outputs": [],
   "source": [
    "'''10. What is difference between the list methods append() and insert()?'''\n",
    "\n",
    "'''append() will add a value to the end of the list\n",
    "    insert() adds the value to the mentioned index'''\n"
   ]
  },
  {
   "cell_type": "code",
   "execution_count": 22,
   "id": "166c7667",
   "metadata": {},
   "outputs": [
    {
     "name": "stdout",
     "output_type": "stream",
     "text": [
      "['Alice', 'Bob', 'Bob', 'Dave']\n",
      "1\n",
      "[0, 2, 3, 4, 5, 6, 7, 8, 9]\n",
      "[0, 2, 3, 4, 5, 7, 8, 9]\n"
     ]
    }
   ],
   "source": [
    "'''11. What are the two methods for removing items from a list?'''\n",
    "\n",
    "l = ['Alice', 'Bob', 'Charlie', 'Bob', 'Dave']\n",
    "\n",
    "l.remove('Charlie')\n",
    "print(l)\n",
    "\n",
    "l = list(range(10))\n",
    "value = l.pop(1)\n",
    "print(value)\n",
    "print(l)\n",
    "\n",
    "del l[5]\n",
    "print(l)\n",
    "\n"
   ]
  },
  {
   "cell_type": "code",
   "execution_count": 23,
   "id": "26ec4444",
   "metadata": {},
   "outputs": [
    {
     "data": {
      "text/plain": [
       "'Both has index value\\n    Both are ordered'"
      ]
     },
     "execution_count": 23,
     "metadata": {},
     "output_type": "execute_result"
    }
   ],
   "source": [
    "'''12. Describe how list values and string values are identical'''\n",
    "\n",
    "'''Both has index value\n",
    "    Both are ordered'''"
   ]
  },
  {
   "cell_type": "code",
   "execution_count": 24,
   "id": "c26e72b2",
   "metadata": {},
   "outputs": [
    {
     "data": {
      "text/plain": [
       "'Lists are muttable and have several native methods\\n   where as tuples are immutable and have no methods'"
      ]
     },
     "execution_count": 24,
     "metadata": {},
     "output_type": "execute_result"
    }
   ],
   "source": [
    "'''13. What's the difference between tuples and lists?'''\n",
    "\n",
    "'''Lists are muttable and have several native methods\n",
    "   where as tuples are immutable and have no methods'''"
   ]
  },
  {
   "cell_type": "code",
   "execution_count": 27,
   "id": "20a8d2d0",
   "metadata": {},
   "outputs": [],
   "source": [
    "'''14. How do you type a tuple value that only contains the integer 42?'''\n",
    "\n",
    "a_tuple = (42)\n"
   ]
  },
  {
   "cell_type": "code",
   "execution_count": 29,
   "id": "78ccbaa9",
   "metadata": {},
   "outputs": [
    {
     "name": "stdout",
     "output_type": "stream",
     "text": [
      "(4, 5, 6)\n",
      "['d', 'e', 'f']\n"
     ]
    }
   ],
   "source": [
    "'''15. How do you get a list values tuple form? How do you get a tuple values list form?'''\n",
    "\n",
    "a = [(1,2,3), (4,5,6), (7,8,9)]\n",
    "'''list values tuple form'''\n",
    "print(a[1])\n",
    "'''tuple values list form'''\n",
    "b = (['a','b','c'], ['d','e','f'], ['g','h','i'])\n",
    "print(b[1])"
   ]
  },
  {
   "cell_type": "code",
   "execution_count": null,
   "id": "49f922df",
   "metadata": {},
   "outputs": [],
   "source": [
    "'''16. Variables that 'contain' list values are not necessarily lists themselves. Instead, what do they\n",
    "contain?'''\n",
    "\n",
    "'''List is a ordered collection of different datatype'''"
   ]
  },
  {
   "cell_type": "code",
   "execution_count": 30,
   "id": "bfdcc1b2",
   "metadata": {},
   "outputs": [
    {
     "name": "stdout",
     "output_type": "stream",
     "text": [
      "Copy\n",
      "Old list: [[1, 1, 1], [2, 'AA', 2], [3, 3, 3]]\n",
      "New list: [[1, 1, 1], [2, 'AA', 2], [3, 3, 3]]\n",
      "Deep Copy\n",
      "Old list: [[1, 1, 1], ['BB', 2, 2], [3, 3, 3]]\n",
      "New list: [[1, 1, 1], [2, 2, 2], [3, 3, 3]]\n"
     ]
    }
   ],
   "source": [
    "'''17. How do you distinguish between copy.copy() and copy.deepcopy()?'''\n",
    "'''copy.copy() copies reference to the old object\n",
    "    where as copy.deepcopy() creates a new object'''\n",
    "\n",
    "import copy\n",
    "\n",
    "old_list = [[1, 1, 1], [2, 2, 2], [3, 3, 3]]\n",
    "new_list = copy.copy(old_list)\n",
    "print(\"Copy\")\n",
    "old_list[1][1] = 'AA'\n",
    "print(\"Old list:\", old_list)\n",
    "print(\"New list:\", new_list)\n",
    "\n",
    "print(\"Deep Copy\")\n",
    "old_list = [[1, 1, 1], [2, 2, 2], [3, 3, 3]]\n",
    "new_list = copy.deepcopy(old_list)\n",
    "\n",
    "old_list[1][0] = 'BB'\n",
    "\n",
    "print(\"Old list:\", old_list)\n",
    "print(\"New list:\", new_list)"
   ]
  },
  {
   "cell_type": "code",
   "execution_count": null,
   "id": "e7ff0ff7",
   "metadata": {},
   "outputs": [],
   "source": []
  }
 ],
 "metadata": {
  "kernelspec": {
   "display_name": "Python 3 (ipykernel)",
   "language": "python",
   "name": "python3"
  },
  "language_info": {
   "codemirror_mode": {
    "name": "ipython",
    "version": 3
   },
   "file_extension": ".py",
   "mimetype": "text/x-python",
   "name": "python",
   "nbconvert_exporter": "python",
   "pygments_lexer": "ipython3",
   "version": "3.9.12"
  }
 },
 "nbformat": 4,
 "nbformat_minor": 5
}
