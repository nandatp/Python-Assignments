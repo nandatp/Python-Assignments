{
 "cells": [
  {
   "cell_type": "code",
   "execution_count": null,
   "id": "8809904b",
   "metadata": {},
   "outputs": [],
   "source": [
    "'''\n",
    "\n",
    "\n",
    "\n",
    "\n",
    "\n"
   ]
  },
  {
   "cell_type": "code",
   "execution_count": null,
   "id": "3b54a60c",
   "metadata": {},
   "outputs": [],
   "source": [
    "# 1. In what modes should the PdfFileReader() and PdfFileWriter() File objects will be opened?\n",
    "\n",
    "'''Binary mode'''"
   ]
  },
  {
   "cell_type": "code",
   "execution_count": null,
   "id": "d0ebcbc7",
   "metadata": {},
   "outputs": [],
   "source": [
    "# 2. From a PdfFileReader object, how do you get a Page object for page 5?\n",
    "\n",
    "'''Using getpage(4) method'''"
   ]
  },
  {
   "cell_type": "code",
   "execution_count": null,
   "id": "78358cff",
   "metadata": {},
   "outputs": [],
   "source": [
    "# 3. What PdfFileReader variable stores the number of pages in the PDF document?\n",
    "\n",
    "'''numpages attribute'''"
   ]
  },
  {
   "cell_type": "code",
   "execution_count": null,
   "id": "03f18ac9",
   "metadata": {},
   "outputs": [],
   "source": [
    "# 4. If a PdfFileReader object’s PDF is encrypted with the password swordfish, what must you do\n",
    "# before you can obtain Page objects from it?\n",
    "\n",
    "'''\n",
    "pdfReader = PyPDF2.PdfFileReader(open('encrypted.pdf', 'rb'))\n",
    "pdfReader.decrypt('swordfish')\n",
    "pageObj = pdfReader.getPage(0)\n",
    "'''"
   ]
  },
  {
   "cell_type": "code",
   "execution_count": null,
   "id": "385d4e04",
   "metadata": {},
   "outputs": [],
   "source": [
    "# 5. What methods do you use to rotate a page?\n",
    "\n",
    "'''\n",
    "page = pdfReader.getPage(0)\n",
    "page.rotateClockwise(90)\n",
    "'''"
   ]
  },
  {
   "cell_type": "code",
   "execution_count": null,
   "id": "77ee4c7a",
   "metadata": {},
   "outputs": [],
   "source": [
    "# 6. What is the difference between a Run object and a Paragraph object?\n",
    "\n",
    "'''Run Object - Is a continuous run of text with the same style '''\n",
    "'''Paragraph Object - Is a collection of Run objects for each paragraphs'''"
   ]
  },
  {
   "cell_type": "code",
   "execution_count": null,
   "id": "ed1ab766",
   "metadata": {},
   "outputs": [],
   "source": [
    "# 7. How do you obtain a list of Paragraph objects for a Document object that’s stored in a variable\n",
    "# named doc?\n",
    "\n",
    "'''doc.paragraphs'''"
   ]
  },
  {
   "cell_type": "code",
   "execution_count": null,
   "id": "f04eefda",
   "metadata": {},
   "outputs": [],
   "source": [
    "# 8. What type of object has bold, underline, italic, strike, and outline variables?\n",
    "'''Run objects'''"
   ]
  },
  {
   "cell_type": "code",
   "execution_count": null,
   "id": "26ee77e2",
   "metadata": {},
   "outputs": [],
   "source": [
    "# 9. What is the difference between False, True, and None for the bold variable?\n",
    "\n",
    "'''True -- the attribute is always enabled, no matter what other styles are applied to the run'''\n",
    "'''False -- the attribute is always disabled'''\n",
    "'''None -- defaults to whatever the run’s style is set to'''"
   ]
  },
  {
   "cell_type": "code",
   "execution_count": null,
   "id": "42cfb7a9",
   "metadata": {},
   "outputs": [],
   "source": [
    "# 10. How do you create a Document object for a new Word document?\n",
    "\n",
    "'''\n",
    "import docx\n",
    "doc = docx.Document()\n",
    "doc.add_paragraph('Hello, World')\n",
    "doc.save('helloworld.docx')\n",
    "'''"
   ]
  },
  {
   "cell_type": "code",
   "execution_count": null,
   "id": "6861dbb1",
   "metadata": {},
   "outputs": [],
   "source": [
    "# 11. How do you add a paragraph with the text &#39;Hello, there!&#39; to a Document object stored in a variable named doc?\n",
    "\n",
    "'''\n",
    "import docx\n",
    "doc = docx.Document()\n",
    "doc.add_paragraph('Hello, World')\n",
    "doc.save('helloworld.docx')\n",
    "'''"
   ]
  },
  {
   "cell_type": "code",
   "execution_count": null,
   "id": "e1f69bce",
   "metadata": {},
   "outputs": [],
   "source": [
    "# 12. What integers represent the levels of headings available in Word documents?\n",
    "\n",
    "'''interger 0 -- Title heading style\n",
    "integer 1-4 -- various subheadings'''"
   ]
  }
 ],
 "metadata": {
  "kernelspec": {
   "display_name": "Python 3 (ipykernel)",
   "language": "python",
   "name": "python3"
  },
  "language_info": {
   "codemirror_mode": {
    "name": "ipython",
    "version": 3
   },
   "file_extension": ".py",
   "mimetype": "text/x-python",
   "name": "python",
   "nbconvert_exporter": "python",
   "pygments_lexer": "ipython3",
   "version": "3.9.12"
  }
 },
 "nbformat": 4,
 "nbformat_minor": 5
}
