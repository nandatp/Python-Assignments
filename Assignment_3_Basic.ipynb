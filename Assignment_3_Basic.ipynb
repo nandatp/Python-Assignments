{
 "cells": [
  {
   "cell_type": "code",
   "execution_count": 7,
   "id": "a9c2b1d5",
   "metadata": {},
   "outputs": [
    {
     "data": {
      "text/plain": [
       "'\\n\\n\\n\\n\\n9. How do you make a function variable refer to the global variable?\\n10. What is the data type of None?\\n11. What does the sentence import areallyourpetsnamederic do?\\n12. If you had a bacon() feature in a spam module, what would you call it after importing spam?\\n13. What can you do to save a programme from crashing if it encounters an error?\\n14. What is the purpose of the try clause? What is the purpose of the except clause?'"
      ]
     },
     "execution_count": 7,
     "metadata": {},
     "output_type": "execute_result"
    }
   ],
   "source": [
    "'''\n",
    "\n",
    "\n",
    "\n",
    "\n"
   ]
  },
  {
   "cell_type": "code",
   "execution_count": 1,
   "id": "a6aec72d",
   "metadata": {},
   "outputs": [
    {
     "data": {
      "text/plain": [
       "'Repeatable tasks can be grouped and defined under a function and then call the function whenever you need it \\ninstead of repeating the entire statement'"
      ]
     },
     "execution_count": 1,
     "metadata": {},
     "output_type": "execute_result"
    }
   ],
   "source": [
    "'''1. Why are functions advantageous to have in your programs?'''\n",
    "\n",
    "'''Repeatable tasks can be grouped and defined under a function and then call the function whenever you need it \n",
    "instead of repeating the entire statement''' "
   ]
  },
  {
   "cell_type": "code",
   "execution_count": 2,
   "id": "ace6ae03",
   "metadata": {},
   "outputs": [
    {
     "data": {
      "text/plain": [
       "'When it is being called'"
      ]
     },
     "execution_count": 2,
     "metadata": {},
     "output_type": "execute_result"
    }
   ],
   "source": [
    "'''2. When does the code in a function run: when it's specified or when it's called?'''\n",
    "\n",
    "'''When it is being called'''"
   ]
  },
  {
   "cell_type": "code",
   "execution_count": 3,
   "id": "a60adac3",
   "metadata": {},
   "outputs": [
    {
     "data": {
      "text/plain": [
       "'def keyword'"
      ]
     },
     "execution_count": 3,
     "metadata": {},
     "output_type": "execute_result"
    }
   ],
   "source": [
    "'''3. What statement creates a function?'''\n",
    "\n",
    "'''def keyword'''"
   ]
  },
  {
   "cell_type": "code",
   "execution_count": 4,
   "id": "44e752fe",
   "metadata": {},
   "outputs": [
    {
     "data": {
      "text/plain": [
       "'Functions is a collection of statements does a particular operation and return result\\n   Function call is the code to pass the control to a function'"
      ]
     },
     "execution_count": 4,
     "metadata": {},
     "output_type": "execute_result"
    }
   ],
   "source": [
    "'''4. What is the difference between a function and a function call?'''\n",
    "\n",
    "'''Functions is a collection of statements does a particular operation and return result\n",
    "   Function call is the code to pass the control to a function'''"
   ]
  },
  {
   "cell_type": "code",
   "execution_count": null,
   "id": "8a81f2f2",
   "metadata": {},
   "outputs": [],
   "source": [
    "'''5. How many global scopes are there in a Python program? How many local scopes?'''\n",
    "\n",
    "'''There can be only one global scope\n",
    "   Local scopes can be as many as functions in the program'''"
   ]
  },
  {
   "cell_type": "code",
   "execution_count": 6,
   "id": "a40a3d32",
   "metadata": {},
   "outputs": [
    {
     "name": "stdout",
     "output_type": "stream",
     "text": [
      "5\n"
     ]
    },
    {
     "ename": "NameError",
     "evalue": "name 'result' is not defined",
     "output_type": "error",
     "traceback": [
      "\u001b[1;31m---------------------------------------------------------------------------\u001b[0m",
      "\u001b[1;31mNameError\u001b[0m                                 Traceback (most recent call last)",
      "Input \u001b[1;32mIn [6]\u001b[0m, in \u001b[0;36m<cell line: 11>\u001b[1;34m()\u001b[0m\n\u001b[0;32m      9\u001b[0m y \u001b[38;5;241m=\u001b[39m add(a,b)\n\u001b[0;32m     10\u001b[0m \u001b[38;5;28mprint\u001b[39m(y)\n\u001b[1;32m---> 11\u001b[0m \u001b[38;5;28mprint\u001b[39m(\u001b[43mresult\u001b[49m)\n",
      "\u001b[1;31mNameError\u001b[0m: name 'result' is not defined"
     ]
    }
   ],
   "source": [
    "'''6. What happens to variables in a local scope when the function call returns?'''\n",
    "\n",
    "a = 1\n",
    "b = 4\n",
    "def add(num1, num2):\n",
    "    result = num1+num2\n",
    "    return result\n",
    "\n",
    "y = add(a,b)\n",
    "print(y)\n",
    "print(result)\n",
    "\n",
    "'''Local variables are destroyed once function call returns'''\n"
   ]
  },
  {
   "cell_type": "code",
   "execution_count": 8,
   "id": "13bdcae6",
   "metadata": {},
   "outputs": [
    {
     "data": {
      "text/plain": [
       "'return statements are used to end a function call and returns a value of expression to the caller'"
      ]
     },
     "execution_count": 8,
     "metadata": {},
     "output_type": "execute_result"
    }
   ],
   "source": [
    "'''7. What is the concept of a return value? Is it possible to have a return value in an expression?'''\n",
    "\n",
    "'''return statements are used to end a function call and returns a value of expression to the caller'''"
   ]
  },
  {
   "cell_type": "code",
   "execution_count": 9,
   "id": "7c69d70b",
   "metadata": {},
   "outputs": [
    {
     "name": "stdout",
     "output_type": "stream",
     "text": [
      "None\n"
     ]
    }
   ],
   "source": [
    "'''8. If a function does not have a return statement, what is the return value of a call to that function?'''\n",
    "\n",
    "a = 1\n",
    "b = 4\n",
    "def add(num1, num2):\n",
    "    result = num1+num2\n",
    "    # return result\n",
    "\n",
    "y = add(a,b)\n",
    "print(y)\n",
    "\n",
    "'''None'''"
   ]
  },
  {
   "cell_type": "code",
   "execution_count": null,
   "id": "529a1316",
   "metadata": {},
   "outputs": [],
   "source": [
    "'''9. How do you make a function variable refer to the global variable?'''\n",
    "\n",
    "'''Using global keyword'''"
   ]
  },
  {
   "cell_type": "code",
   "execution_count": null,
   "id": "abdcada0",
   "metadata": {},
   "outputs": [],
   "source": [
    "'''10. What is the data type of None?'''\n",
    "\n",
    "'''It has its own data type its called Nonetype'''"
   ]
  },
  {
   "cell_type": "code",
   "execution_count": null,
   "id": "660f46a6",
   "metadata": {},
   "outputs": [],
   "source": [
    "'''11. What does the sentence import areallyourpetsnamederic do?'''\n",
    "\n",
    "'''method areallyourpetsnamederic gets imported'''"
   ]
  },
  {
   "cell_type": "code",
   "execution_count": null,
   "id": "578eda8d",
   "metadata": {},
   "outputs": [],
   "source": [
    "'''12. If you had a bacon() feature in a spam module, what would you call it after importing spam?'''\n",
    "'''spam.bacon()'''"
   ]
  },
  {
   "cell_type": "code",
   "execution_count": null,
   "id": "1889e6eb",
   "metadata": {},
   "outputs": [],
   "source": [
    "'''13. What can you do to save a programme from crashing if it encounters an error?'''\n",
    "\n",
    "'''Use expectional error handling'''"
   ]
  },
  {
   "cell_type": "code",
   "execution_count": null,
   "id": "06de1832",
   "metadata": {},
   "outputs": [],
   "source": [
    "'''14. What is the purpose of the try clause? What is the purpose of the except clause?'''\n",
    "\n",
    "'''try clause - this is where code goes where you expect a error to happen\n",
    "   except clause - here you can handle the error that occured in try block'''"
   ]
  }
 ],
 "metadata": {
  "kernelspec": {
   "display_name": "Python 3 (ipykernel)",
   "language": "python",
   "name": "python3"
  },
  "language_info": {
   "codemirror_mode": {
    "name": "ipython",
    "version": 3
   },
   "file_extension": ".py",
   "mimetype": "text/x-python",
   "name": "python",
   "nbconvert_exporter": "python",
   "pygments_lexer": "ipython3",
   "version": "3.9.12"
  }
 },
 "nbformat": 4,
 "nbformat_minor": 5
}
