{
 "cells": [
  {
   "cell_type": "code",
   "execution_count": 5,
   "id": "f27739fa",
   "metadata": {},
   "outputs": [
    {
     "data": {
      "text/plain": [
       "\"\\n1. In the below elements which of them are values or an expression? eg:- values can be integer or string and expressions will be mathematical operators.\\n* -- Expression\\n'hello' -- Value\\n-87.8 -- value\\n-  --Expression\\n/  --Expression\\n+  --Expression\\n6   --Value\\n\\n\""
      ]
     },
     "execution_count": 5,
     "metadata": {},
     "output_type": "execute_result"
    }
   ],
   "source": [
    "'''\n",
    "1. In the below elements which of them are values or an expression? eg:- values can be integer or string and expressions will be mathematical operators.\n",
    "* -- Expression\n",
    "'hello' -- Value\n",
    "-87.8 -- value\n",
    "-  --Expression\n",
    "/  --Expression\n",
    "+  --Expression\n",
    "6   --Value\n",
    "\n",
    "'''\n"
   ]
  },
  {
   "cell_type": "code",
   "execution_count": 6,
   "id": "8497e9c7",
   "metadata": {},
   "outputs": [
    {
     "data": {
      "text/plain": [
       "'\\n2. What is the difference between string and variable?\\n\\nString is a data type\\nVariable is reserverd memory location to store values\\n'"
      ]
     },
     "execution_count": 6,
     "metadata": {},
     "output_type": "execute_result"
    }
   ],
   "source": [
    "'''\n",
    "2. What is the difference between string and variable?\n",
    "\n",
    "String is a data type\n",
    "Variable is reserverd memory location to store values\n",
    "'''"
   ]
  },
  {
   "cell_type": "code",
   "execution_count": 7,
   "id": "9725e4fd",
   "metadata": {},
   "outputs": [
    {
     "data": {
      "text/plain": [
       "'\\n3. Describe three different data types.\\n\\nFloat, Integer, String\\n\\n'"
      ]
     },
     "execution_count": 7,
     "metadata": {},
     "output_type": "execute_result"
    }
   ],
   "source": [
    "'''\n",
    "3. Describe three different data types.\n",
    "\n",
    "Float, Integer, String\n",
    "\n",
    "'''\n"
   ]
  },
  {
   "cell_type": "code",
   "execution_count": 8,
   "id": "7b3793ef",
   "metadata": {},
   "outputs": [
    {
     "data": {
      "text/plain": [
       "'\\nWhat is an expression made up of? What do all expressions do?\\n\\nExpressions are made up of operators and operands\\nExpressions are representation of the value, they do computations on the variable objects\\n\\n'"
      ]
     },
     "execution_count": 8,
     "metadata": {},
     "output_type": "execute_result"
    }
   ],
   "source": [
    "'''\n",
    "What is an expression made up of? What do all expressions do?\n",
    "\n",
    "Expressions are made up of operators and operands\n",
    "Expressions are representation of the value, they do computations on the variable objects\n",
    "\n",
    "'''"
   ]
  },
  {
   "cell_type": "code",
   "execution_count": 9,
   "id": "afb63c6a",
   "metadata": {},
   "outputs": [
    {
     "data": {
      "text/plain": [
       "'\\n5. This assignment statements, like spam = 10. What is the difference between an expression and a statement?\\n\\nspam = 10 is the combination of value and vairable\\nstatements is a instruction python can execute. Eg if , while and for,print\\nExpressions are combination of varaible,operations and values\\n\\n\\n'"
      ]
     },
     "execution_count": 9,
     "metadata": {},
     "output_type": "execute_result"
    }
   ],
   "source": [
    "'''\n",
    "5. This assignment statements, like spam = 10. What is the difference between an expression and a statement?\n",
    "\n",
    "spam = 10 is the combination of value and vairable\n",
    "statements is a instruction python can execute. Eg if , while and for,print\n",
    "Expressions are combination of varaible,operations and values\n",
    "\n",
    "\n",
    "'''"
   ]
  },
  {
   "cell_type": "code",
   "execution_count": 10,
   "id": "077dfd39",
   "metadata": {},
   "outputs": [
    {
     "name": "stdout",
     "output_type": "stream",
     "text": [
      "21\n"
     ]
    }
   ],
   "source": [
    "bacon = 21\n",
    "bacon+1\n",
    "print(bacon)\n",
    "\n",
    "# it will print 21"
   ]
  },
  {
   "cell_type": "code",
   "execution_count": 11,
   "id": "55ecc71b",
   "metadata": {},
   "outputs": [
    {
     "data": {
      "text/plain": [
       "'spamspamspam'"
      ]
     },
     "execution_count": 11,
     "metadata": {},
     "output_type": "execute_result"
    }
   ],
   "source": [
    "'spam' + 'spamspam'\n",
    "'spam' * 3\n",
    "\n",
    "#it will print spam three times --- spamspamspam\n"
   ]
  },
  {
   "cell_type": "code",
   "execution_count": 12,
   "id": "95738551",
   "metadata": {},
   "outputs": [],
   "source": [
    "'''8. Why is eggs a valid variable name while 100 is invalid?\n",
    "\n",
    "variable name should be a combination of _,a-z,A-Z,0-9,also varaible name shouldn't begin with digit\n",
    "'''\n",
    "eggs = 10\n"
   ]
  },
  {
   "cell_type": "code",
   "execution_count": 13,
   "id": "d06f7c99",
   "metadata": {},
   "outputs": [],
   "source": [
    "'''9. What three functions can be used to get the integer, floating-point number, or string version of a value?\n",
    "'''\n",
    "x=int()\n",
    "y=float()\n",
    "z=str()"
   ]
  },
  {
   "cell_type": "code",
   "execution_count": 15,
   "id": "16213739",
   "metadata": {},
   "outputs": [
    {
     "data": {
      "text/plain": [
       "'I have eaten99burritos'"
      ]
     },
     "execution_count": 15,
     "metadata": {},
     "output_type": "execute_result"
    }
   ],
   "source": [
    "'''10. Why does this expression cause an error? How can you fix it?\n",
    "'I have eaten ' + 99 + ' burritos.' --- You need to type cast 99 in to the string\n",
    "'''\n",
    "'I have eaten' + str(99)+'burritos'"
   ]
  },
  {
   "cell_type": "code",
   "execution_count": null,
   "id": "39b6a9cd",
   "metadata": {},
   "outputs": [],
   "source": []
  }
 ],
 "metadata": {
  "kernelspec": {
   "display_name": "Python 3",
   "language": "python",
   "name": "python3"
  },
  "language_info": {
   "codemirror_mode": {
    "name": "ipython",
    "version": 3
   },
   "file_extension": ".py",
   "mimetype": "text/x-python",
   "name": "python",
   "nbconvert_exporter": "python",
   "pygments_lexer": "ipython3",
   "version": "3.8.8"
  }
 },
 "nbformat": 4,
 "nbformat_minor": 5
}
