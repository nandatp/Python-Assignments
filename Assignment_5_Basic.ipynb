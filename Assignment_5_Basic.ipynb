{
 "cells": [
  {
   "cell_type": "code",
   "execution_count": null,
   "id": "74f4cbe2",
   "metadata": {},
   "outputs": [],
   "source": [
    "'''\n",
    "\n",
    "\n",
    "\n",
    "\n",
    "if &#39;color&#39; not in spam:\n",
    "spam[&#39;color&#39;] = &#39;black&#39;\n",
    "\n",
    "8. How do you &quot;pretty print&quot; dictionary values using which module and function?'''"
   ]
  },
  {
   "cell_type": "code",
   "execution_count": null,
   "id": "350b51b1",
   "metadata": {},
   "outputs": [],
   "source": [
    "'''1. What does an empty dictionary's code look like?'''\n",
    "\n",
    "a = {\n",
    "    \n",
    "}\n"
   ]
  },
  {
   "cell_type": "code",
   "execution_count": 1,
   "id": "a9aba47d",
   "metadata": {},
   "outputs": [
    {
     "name": "stdout",
     "output_type": "stream",
     "text": [
      "{'foo': 42}\n"
     ]
    }
   ],
   "source": [
    "'''2. What is the value of a dictionary value with the key &#39;foo&#39; and the value 42?'''\n",
    "\n",
    "a = {\n",
    "    'foo': 42\n",
    "}\n",
    "print(a)"
   ]
  },
  {
   "cell_type": "code",
   "execution_count": null,
   "id": "03d5dcf1",
   "metadata": {},
   "outputs": [],
   "source": [
    "'''3. What is the most significant distinction between a dictionary and a list?'''\n",
    "\n",
    "'''List is a collection of ordered data type\n",
    "    Dictonary is a collection of unordered data type'''"
   ]
  },
  {
   "cell_type": "code",
   "execution_count": 2,
   "id": "c63b964f",
   "metadata": {},
   "outputs": [
    {
     "ename": "KeyError",
     "evalue": "'foo'",
     "output_type": "error",
     "traceback": [
      "\u001b[1;31m---------------------------------------------------------------------------\u001b[0m",
      "\u001b[1;31mKeyError\u001b[0m                                  Traceback (most recent call last)",
      "Input \u001b[1;32mIn [2]\u001b[0m, in \u001b[0;36m<cell line: 7>\u001b[1;34m()\u001b[0m\n\u001b[0;32m      1\u001b[0m \u001b[38;5;124;03m'''4. What happens if you try to access spam[&#39;foo&#39;] if spam is {&#39;bar&#39;: 100}?'''\u001b[39;00m\n\u001b[0;32m      3\u001b[0m spam \u001b[38;5;241m=\u001b[39m {\n\u001b[0;32m      4\u001b[0m     \u001b[38;5;124m'\u001b[39m\u001b[38;5;124mbar\u001b[39m\u001b[38;5;124m'\u001b[39m: \u001b[38;5;241m100\u001b[39m,\n\u001b[0;32m      5\u001b[0m }\n\u001b[1;32m----> 7\u001b[0m \u001b[38;5;28mprint\u001b[39m(\u001b[43mspam\u001b[49m\u001b[43m[\u001b[49m\u001b[38;5;124;43m'\u001b[39;49m\u001b[38;5;124;43mfoo\u001b[39;49m\u001b[38;5;124;43m'\u001b[39;49m\u001b[43m]\u001b[49m)\n",
      "\u001b[1;31mKeyError\u001b[0m: 'foo'"
     ]
    }
   ],
   "source": [
    "'''4. What happens if you try to access spam['foo'] if spam is {'bar': 100}?'''\n",
    "\n",
    "spam = {\n",
    "    'bar': 100,\n",
    "}\n",
    "\n",
    "print(spam['foo'])\n",
    "\n",
    "'''Key Error'''"
   ]
  },
  {
   "cell_type": "code",
   "execution_count": 14,
   "id": "72d3534f",
   "metadata": {},
   "outputs": [
    {
     "data": {
      "text/plain": [
       "\" 'cat' in spam referes to a particular key, where as spam.keys refers to a list of all the keys in Spam \""
      ]
     },
     "execution_count": 14,
     "metadata": {},
     "output_type": "execute_result"
    }
   ],
   "source": [
    "'''5. If a dictionary is stored in spam, what is the difference between the expressions 'cat' in spam and\n",
    "'cat' in spam.keys()?'''\n",
    "\n",
    "''' 'cat' in spam referes to a particular key, where as spam.keys refers to a list of all the keys in Spam '''"
   ]
  },
  {
   "cell_type": "code",
   "execution_count": 2,
   "id": "eb8eff91",
   "metadata": {},
   "outputs": [
    {
     "name": "stdout",
     "output_type": "stream",
     "text": [
      "{'color': 'black'}\n"
     ]
    }
   ],
   "source": [
    "'''7. What is a shortcut for the following code?'''\n",
    "\n",
    "'''if 'color' not in spam:\n",
    "    spam['color'] = 'black'  '''\n",
    "\n",
    "spam = {}\n",
    "if 'color' not in spam:\n",
    "    spam.update({'color':'black'})\n",
    "print(spam)"
   ]
  },
  {
   "cell_type": "code",
   "execution_count": 5,
   "id": "8eb7a481",
   "metadata": {},
   "outputs": [
    {
     "name": "stdout",
     "output_type": "stream",
     "text": [
      "[{'Name': 'John', 'Age': '23', 'Country': 'USA'}, {'Name': 'Jose', 'Age': '44', 'Country': 'Spain'}, {'Name': 'Anne', 'Age': '29', 'Country': 'UK'}, {'Name': 'Lee', 'Age': '35', 'Country': 'Japan'}]\n",
      " \n",
      "[{'Age': '23', 'Country': 'USA', 'Name': 'John'},\n",
      " {'Age': '44', 'Country': 'Spain', 'Name': 'Jose'},\n",
      " {'Age': '29', 'Country': 'UK', 'Name': 'Anne'},\n",
      " {'Age': '35', 'Country': 'Japan', 'Name': 'Lee'}]\n"
     ]
    }
   ],
   "source": [
    "'''8. How do you 'pretty print' dictionary values using which module and function?'''\n",
    "\n",
    "import pprint\n",
    "\n",
    "dict1 = [\n",
    "    {'Name': 'John', 'Age': '23', 'Country': 'USA'},\n",
    "    {'Name': 'Jose', 'Age': '44', 'Country': 'Spain'},\n",
    "    {'Name': 'Anne', 'Age': '29', 'Country': 'UK'},\n",
    "    {'Name': 'Lee', 'Age': '35', 'Country': 'Japan'}\n",
    "]\n",
    "print(dict1)\n",
    "print(\" \")\n",
    "pprint.pprint(dict1)"
   ]
  }
 ],
 "metadata": {
  "kernelspec": {
   "display_name": "Python 3 (ipykernel)",
   "language": "python",
   "name": "python3"
  },
  "language_info": {
   "codemirror_mode": {
    "name": "ipython",
    "version": 3
   },
   "file_extension": ".py",
   "mimetype": "text/x-python",
   "name": "python",
   "nbconvert_exporter": "python",
   "pygments_lexer": "ipython3",
   "version": "3.9.12"
  }
 },
 "nbformat": 4,
 "nbformat_minor": 5
}
